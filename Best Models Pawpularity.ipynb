{
 "cells": [
  {
   "cell_type": "markdown",
   "id": "d003a50f",
   "metadata": {},
   "source": [
    "## Best 1-layer model"
   ]
  },
  {
   "cell_type": "code",
   "execution_count": null,
   "id": "0d8c7cea",
   "metadata": {},
   "outputs": [],
   "source": [
    "model4 = Sequential([\n",
    "    Conv2D(32, (3, 3), padding='same', input_shape=(64, 64, 3)),\n",
    "    Activation('relu'),\n",
    "    MaxPooling2D(pool_size=(2, 2)),\n",
    "    Flatten(),\n",
    "    Dense(25),\n",
    "    Activation('relu')\n",
    "])\n",
    "\n",
    "model4.compile(loss=\"mse\",\n",
    "              optimizer='adam',\n",
    "              #optimizer=opt, \n",
    "              metrics=['mse', \n",
    "                      tf.keras.metrics.RootMeanSquaredError(),\n",
    "                      'mean_absolute_error'])"
   ]
  },
  {
   "cell_type": "code",
   "execution_count": null,
   "id": "408c3877",
   "metadata": {},
   "outputs": [],
   "source": [
    "model4.fit(x=train_batch, y=train_y,\n",
    "           validation_data=(valid_batch, test_batch),\n",
    "           epochs=5, \n",
    "           batch_size=8)\n",
    "\n",
    "# was achieved with a 75/25 split of X_test with one dense layer of 25 neurons and 5 epochs WITHOUT batch normalization"
   ]
  },
  {
   "cell_type": "markdown",
   "id": "cc303819",
   "metadata": {},
   "source": [
    "* Epoch 5 651/651 [==============================] - 41s 63ms/step - loss: 400.3010 - mse: 400.3010 - root_mean_squared_error: 20.0075 - mean_absolute_error: 14.9119 - val_loss: 429.0087 - val_mse: 429.0087 - val_root_mean_squared_error: 20.7125 - val_mean_absolute_error: 15.9141 397.8202 - root_mean_squared_error: 19.9454 - mean_absolute_ - ETA: 1s - loss: 396.7077 - mse: 396.7077 - root_mean_squared_error: 19.9175 - mean_absolu - ETA: 0s - loss: 398.1474 - mse: 398.1474 - root_mean_squared_error: 19.9536 - mean_absolute_erro"
   ]
  },
  {
   "cell_type": "markdown",
   "id": "43f6377f",
   "metadata": {},
   "source": [
    "## Best 2-layer model"
   ]
  },
  {
   "cell_type": "code",
   "execution_count": null,
   "id": "c5e58edd",
   "metadata": {},
   "outputs": [],
   "source": [
    "model4 = Sequential([\n",
    "    Conv2D(32, (3, 3), padding='same', input_shape=(64, 64, 3)),\n",
    "    Activation('relu'),\n",
    "    BatchNormalization(),\n",
    "    MaxPooling2D(pool_size=(2, 2)),\n",
    "    Flatten(),\n",
    "    Dense(32, activation= 'relu'),\n",
    "    BatchNormalization(),\n",
    "    Dense(8, activation= 'relu'),\n",
    "])\n",
    "\n",
    "model4.compile(loss=\"mse\",\n",
    "              optimizer='adam',\n",
    "              #optimizer=opt, \n",
    "              metrics=['mse', \n",
    "                      tf.keras.metrics.RootMeanSquaredError(),\n",
    "                      'mean_absolute_error'])"
   ]
  },
  {
   "cell_type": "code",
   "execution_count": null,
   "id": "ff3787d6",
   "metadata": {},
   "outputs": [],
   "source": [
    "model4.fit(x=train_batch, y=train_y,\n",
    "           validation_data=(valid_batch, test_batch),\n",
    "           epochs=5, \n",
    "           batch_size=8)"
   ]
  },
  {
   "cell_type": "markdown",
   "id": "89c03a69",
   "metadata": {},
   "source": [
    "Epoch 1/5\n",
    "651/651 [==============================] - 74s 114ms/step - loss: 1432.9404 - mse: 1432.9404 - root_mean_squared_error: 37.8542 - mean_absolute_error: 31.3086 - val_loss: 1040.2609 - val_mse: 1040.2609 - val_root_mean_squared_error: 32.2531 - val_mean_absolute_error: 24.7635\n",
    "Epoch 2/5\n",
    "651/651 [==============================] - 72s 110ms/step - loss: 928.9258 - mse: 928.9258 - root_mean_squared_error: 30.4783 - mean_absolute_error: 22.8490 - val_loss: 835.0610 - val_mse: 835.0610 - val_root_mean_squared_error: 28.8974 - val_mean_absolute_error: 21.67557912 - mse: 929.7912 - root_mean_squared_error: 30.4925 - mean_absolute_error\n",
    "Epoch 3/5\n",
    "651/651 [==============================] - 72s 111ms/step - loss: 699.7444 - mse: 699.7444 - root_mean_squared_error: 26.4527 - mean_absolute_error: 19.5858 - val_loss: 595.4401 - val_mse: 595.4401 - val_root_mean_squared_error: 24.4016 - val_mean_absolute_error: 17.9745\n",
    "Epoch 4/5\n",
    "651/651 [==============================] - 81s 124ms/step - loss: 450.0338 - mse: 450.0338 - root_mean_squared_error: 21.2140 - mean_absolute_error: 15.6365 - val_loss: 440.5969 - val_mse: 440.5969 - val_root_mean_squared_error: 20.9904 - val_mean_absolute_error: 16.1580\n",
    "Epoch 5/5\n",
    "651/651 [==============================] - 82s 126ms/step - loss: 412.7112 - mse: 412.7112 - root_mean_squared_error: 20.3153 - mean_absolute_error: 15.2100 - val_loss: 451.5545 - val_mse: 451.5545 - val_root_mean_squared_error: 21.2498 - val_mean_absolute_error: 16.9341"
   ]
  }
 ],
 "metadata": {
  "kernelspec": {
   "display_name": "Python 3 (ipykernel)",
   "language": "python",
   "name": "python3"
  },
  "language_info": {
   "codemirror_mode": {
    "name": "ipython",
    "version": 3
   },
   "file_extension": ".py",
   "mimetype": "text/x-python",
   "name": "python",
   "nbconvert_exporter": "python",
   "pygments_lexer": "ipython3",
   "version": "3.8.8"
  }
 },
 "nbformat": 4,
 "nbformat_minor": 5
}
