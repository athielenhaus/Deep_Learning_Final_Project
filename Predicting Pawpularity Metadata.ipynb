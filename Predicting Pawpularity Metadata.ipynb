{
 "cells": [
  {
   "cell_type": "markdown",
   "id": "fde8f59f",
   "metadata": {},
   "source": [
    "# Predicting Pawpularity"
   ]
  },
  {
   "cell_type": "markdown",
   "id": "2569168e",
   "metadata": {},
   "source": [
    "#### Objective\n",
    "PetFinder.my is Malaysia’s leading animal welfare platform, featuring over 180,000 animals with 54,000 happily adopted. PetFinder collaborates closely with animal lovers, media, corporations, and global organizations to improve animal welfare.\n",
    "\n",
    "Currently, PetFinder.my uses a basic Cuteness Meter to rank pet photos. It analyzes picture composition and other factors compared to the performance of thousands of pet profiles. While this basic tool is helpful, it's still in an experimental stage and the algorithm could be improved.\n",
    "\n",
    "In this competition, you’ll analyze raw images and metadata to predict the “Pawpularity” of pet photos. You'll train and test your model on PetFinder.my's thousands of pet profiles.\n",
    "\n",
    "#### Description of data\n",
    "- CSV file with 9912 rows and 14 columns of metadata (no nulls)\n",
    "- Folder with 9912 jpeg files linked to metadata via id in file name\n",
    "\n",
    "#### Issues:\n",
    "- Selection method of data is unclear\n",
    "- Unclear whether photos are profile photos\n",
    "- Pawpularity score is based on webtraffic on pet profile, not based on metadata\n",
    "\n",
    "Noise\n",
    "- Metadata does not include information whether featured pets are dog or cat\n",
    "- Metadata does not include information about pet location "
   ]
  },
  {
   "cell_type": "code",
   "execution_count": 1,
   "id": "51d30c67",
   "metadata": {},
   "outputs": [],
   "source": [
    "import pandas as pd"
   ]
  },
  {
   "cell_type": "code",
   "execution_count": 2,
   "id": "36be6769",
   "metadata": {},
   "outputs": [],
   "source": [
    "data = pd.read_csv('/Users/arnet/Desktop/Ironhack/Final_Project/petfinder-pawpularity-score/train.csv')"
   ]
  },
  {
   "cell_type": "code",
   "execution_count": 3,
   "id": "f3c90307",
   "metadata": {},
   "outputs": [
    {
     "data": {
      "text/html": [
       "<div>\n",
       "<style scoped>\n",
       "    .dataframe tbody tr th:only-of-type {\n",
       "        vertical-align: middle;\n",
       "    }\n",
       "\n",
       "    .dataframe tbody tr th {\n",
       "        vertical-align: top;\n",
       "    }\n",
       "\n",
       "    .dataframe thead th {\n",
       "        text-align: right;\n",
       "    }\n",
       "</style>\n",
       "<table border=\"1\" class=\"dataframe\">\n",
       "  <thead>\n",
       "    <tr style=\"text-align: right;\">\n",
       "      <th></th>\n",
       "      <th>Id</th>\n",
       "      <th>Subject Focus</th>\n",
       "      <th>Eyes</th>\n",
       "      <th>Face</th>\n",
       "      <th>Near</th>\n",
       "      <th>Action</th>\n",
       "      <th>Accessory</th>\n",
       "      <th>Group</th>\n",
       "      <th>Collage</th>\n",
       "      <th>Human</th>\n",
       "      <th>Occlusion</th>\n",
       "      <th>Info</th>\n",
       "      <th>Blur</th>\n",
       "      <th>Pawpularity</th>\n",
       "    </tr>\n",
       "  </thead>\n",
       "  <tbody>\n",
       "    <tr>\n",
       "      <th>0</th>\n",
       "      <td>0007de18844b0dbbb5e1f607da0606e0</td>\n",
       "      <td>0</td>\n",
       "      <td>1</td>\n",
       "      <td>1</td>\n",
       "      <td>1</td>\n",
       "      <td>0</td>\n",
       "      <td>0</td>\n",
       "      <td>1</td>\n",
       "      <td>0</td>\n",
       "      <td>0</td>\n",
       "      <td>0</td>\n",
       "      <td>0</td>\n",
       "      <td>0</td>\n",
       "      <td>63</td>\n",
       "    </tr>\n",
       "    <tr>\n",
       "      <th>1</th>\n",
       "      <td>0009c66b9439883ba2750fb825e1d7db</td>\n",
       "      <td>0</td>\n",
       "      <td>1</td>\n",
       "      <td>1</td>\n",
       "      <td>0</td>\n",
       "      <td>0</td>\n",
       "      <td>0</td>\n",
       "      <td>0</td>\n",
       "      <td>0</td>\n",
       "      <td>0</td>\n",
       "      <td>0</td>\n",
       "      <td>0</td>\n",
       "      <td>0</td>\n",
       "      <td>42</td>\n",
       "    </tr>\n",
       "    <tr>\n",
       "      <th>2</th>\n",
       "      <td>0013fd999caf9a3efe1352ca1b0d937e</td>\n",
       "      <td>0</td>\n",
       "      <td>1</td>\n",
       "      <td>1</td>\n",
       "      <td>1</td>\n",
       "      <td>0</td>\n",
       "      <td>0</td>\n",
       "      <td>0</td>\n",
       "      <td>0</td>\n",
       "      <td>1</td>\n",
       "      <td>1</td>\n",
       "      <td>0</td>\n",
       "      <td>0</td>\n",
       "      <td>28</td>\n",
       "    </tr>\n",
       "    <tr>\n",
       "      <th>3</th>\n",
       "      <td>0018df346ac9c1d8413cfcc888ca8246</td>\n",
       "      <td>0</td>\n",
       "      <td>1</td>\n",
       "      <td>1</td>\n",
       "      <td>1</td>\n",
       "      <td>0</td>\n",
       "      <td>0</td>\n",
       "      <td>0</td>\n",
       "      <td>0</td>\n",
       "      <td>0</td>\n",
       "      <td>0</td>\n",
       "      <td>0</td>\n",
       "      <td>0</td>\n",
       "      <td>15</td>\n",
       "    </tr>\n",
       "    <tr>\n",
       "      <th>4</th>\n",
       "      <td>001dc955e10590d3ca4673f034feeef2</td>\n",
       "      <td>0</td>\n",
       "      <td>0</td>\n",
       "      <td>0</td>\n",
       "      <td>1</td>\n",
       "      <td>0</td>\n",
       "      <td>0</td>\n",
       "      <td>1</td>\n",
       "      <td>0</td>\n",
       "      <td>0</td>\n",
       "      <td>0</td>\n",
       "      <td>0</td>\n",
       "      <td>0</td>\n",
       "      <td>72</td>\n",
       "    </tr>\n",
       "  </tbody>\n",
       "</table>\n",
       "</div>"
      ],
      "text/plain": [
       "                                 Id  Subject Focus  Eyes  Face  Near  Action  \\\n",
       "0  0007de18844b0dbbb5e1f607da0606e0              0     1     1     1       0   \n",
       "1  0009c66b9439883ba2750fb825e1d7db              0     1     1     0       0   \n",
       "2  0013fd999caf9a3efe1352ca1b0d937e              0     1     1     1       0   \n",
       "3  0018df346ac9c1d8413cfcc888ca8246              0     1     1     1       0   \n",
       "4  001dc955e10590d3ca4673f034feeef2              0     0     0     1       0   \n",
       "\n",
       "   Accessory  Group  Collage  Human  Occlusion  Info  Blur  Pawpularity  \n",
       "0          0      1        0      0          0     0     0           63  \n",
       "1          0      0        0      0          0     0     0           42  \n",
       "2          0      0        0      1          1     0     0           28  \n",
       "3          0      0        0      0          0     0     0           15  \n",
       "4          0      1        0      0          0     0     0           72  "
      ]
     },
     "execution_count": 3,
     "metadata": {},
     "output_type": "execute_result"
    }
   ],
   "source": [
    "data.head()"
   ]
  },
  {
   "cell_type": "code",
   "execution_count": 4,
   "id": "7ba98d68",
   "metadata": {},
   "outputs": [
    {
     "name": "stdout",
     "output_type": "stream",
     "text": [
      "<class 'pandas.core.frame.DataFrame'>\n",
      "RangeIndex: 9912 entries, 0 to 9911\n",
      "Data columns (total 14 columns):\n",
      " #   Column         Non-Null Count  Dtype \n",
      "---  ------         --------------  ----- \n",
      " 0   Id             9912 non-null   object\n",
      " 1   Subject Focus  9912 non-null   int64 \n",
      " 2   Eyes           9912 non-null   int64 \n",
      " 3   Face           9912 non-null   int64 \n",
      " 4   Near           9912 non-null   int64 \n",
      " 5   Action         9912 non-null   int64 \n",
      " 6   Accessory      9912 non-null   int64 \n",
      " 7   Group          9912 non-null   int64 \n",
      " 8   Collage        9912 non-null   int64 \n",
      " 9   Human          9912 non-null   int64 \n",
      " 10  Occlusion      9912 non-null   int64 \n",
      " 11  Info           9912 non-null   int64 \n",
      " 12  Blur           9912 non-null   int64 \n",
      " 13  Pawpularity    9912 non-null   int64 \n",
      "dtypes: int64(13), object(1)\n",
      "memory usage: 1.1+ MB\n"
     ]
    }
   ],
   "source": [
    "data.info()"
   ]
  },
  {
   "cell_type": "code",
   "execution_count": 5,
   "id": "9d3f507a",
   "metadata": {},
   "outputs": [
    {
     "name": "stdout",
     "output_type": "stream",
     "text": [
      "ID\n",
      "0007de18844b0dbbb5e1f607da0606e0    1\n",
      "aa90aad818852ca47177213e5be26709    1\n",
      "aa5d26353816ded3a8a6625aeeabe88b    1\n",
      "aa635b767ed19b26ac40a8882f3331e8    1\n",
      "aa6fae51f270df4093831d11d7dd61d2    1\n",
      "                                   ..\n",
      "554b19adc114ac107175c2115347136a    1\n",
      "554bda115618f06c0cccc09c9ec549c3    1\n",
      "55521992ad6215df8b423a767cc7a3c6    1\n",
      "555b694f51ae06552493692a94cf9167    1\n",
      "fff8e47c766799c9e12f3cb3d66ad228    1\n",
      "Name: Id, Length: 9912, dtype: int64 \n",
      "\n",
      "SUBJECT FOCUS\n",
      "0    9638\n",
      "1     274\n",
      "Name: Subject Focus, dtype: int64 \n",
      "\n",
      "EYES\n",
      "1    7658\n",
      "0    2254\n",
      "Name: Eyes, dtype: int64 \n",
      "\n",
      "FACE\n",
      "1    8960\n",
      "0     952\n",
      "Name: Face, dtype: int64 \n",
      "\n",
      "NEAR\n",
      "1    8540\n",
      "0    1372\n",
      "Name: Near, dtype: int64 \n",
      "\n",
      "ACTION\n",
      "0    9813\n",
      "1      99\n",
      "Name: Action, dtype: int64 \n",
      "\n",
      "ACCESSORY\n",
      "0    9240\n",
      "1     672\n",
      "Name: Accessory, dtype: int64 \n",
      "\n",
      "GROUP\n",
      "0    8630\n",
      "1    1282\n",
      "Name: Group, dtype: int64 \n",
      "\n",
      "COLLAGE\n",
      "0    9420\n",
      "1     492\n",
      "Name: Collage, dtype: int64 \n",
      "\n",
      "HUMAN\n",
      "0    8264\n",
      "1    1648\n",
      "Name: Human, dtype: int64 \n",
      "\n",
      "OCCLUSION\n",
      "0    8207\n",
      "1    1705\n",
      "Name: Occlusion, dtype: int64 \n",
      "\n",
      "INFO\n",
      "0    9305\n",
      "1     607\n",
      "Name: Info, dtype: int64 \n",
      "\n",
      "BLUR\n",
      "0    9214\n",
      "1     698\n",
      "Name: Blur, dtype: int64 \n",
      "\n",
      "PAWPULARITY\n",
      "28    318\n",
      "30    318\n",
      "26    316\n",
      "31    312\n",
      "29    304\n",
      "     ... \n",
      "98     10\n",
      "97      8\n",
      "90      7\n",
      "1       4\n",
      "99      4\n",
      "Name: Pawpularity, Length: 100, dtype: int64 \n",
      "\n"
     ]
    }
   ],
   "source": [
    "for column in data:\n",
    "    print(column.upper())\n",
    "    print(data[column].value_counts(), '\\n')"
   ]
  },
  {
   "cell_type": "code",
   "execution_count": 6,
   "id": "b6dff16b",
   "metadata": {},
   "outputs": [
    {
     "data": {
      "text/plain": [
       "Pawpularity      1.000000\n",
       "Group            0.016469\n",
       "Accessory        0.013287\n",
       "Face             0.008018\n",
       "Human            0.003983\n",
       "Occlusion        0.001979\n",
       "Collage          0.001732\n",
       "Near             0.001001\n",
       "Action          -0.001373\n",
       "Info            -0.004735\n",
       "Eyes            -0.006686\n",
       "Subject Focus   -0.009853\n",
       "Blur            -0.023540\n",
       "Name: Pawpularity, dtype: float64"
      ]
     },
     "execution_count": 6,
     "metadata": {},
     "output_type": "execute_result"
    }
   ],
   "source": [
    "corr_matrix = data.corr()\n",
    "corr_matrix['Pawpularity'].sort_values(ascending=False)"
   ]
  },
  {
   "cell_type": "markdown",
   "id": "87d83fb0",
   "metadata": {},
   "source": [
    "## Process metadata"
   ]
  },
  {
   "cell_type": "markdown",
   "id": "c9cdebbc",
   "metadata": {},
   "source": [
    "### Scale pawpularity score (ALSO TRY WITHOUT SCALING)"
   ]
  },
  {
   "cell_type": "code",
   "execution_count": 7,
   "id": "df6d9eaa",
   "metadata": {},
   "outputs": [],
   "source": [
    "# get target score\n",
    "y = data[\"Pawpularity\"]"
   ]
  },
  {
   "cell_type": "code",
   "execution_count": 8,
   "id": "200719ac",
   "metadata": {},
   "outputs": [],
   "source": [
    "# Scale and ensure that score is between 0 and 1\n",
    "maxScore = y.max()\n",
    "y_scaled= y / maxScore"
   ]
  },
  {
   "cell_type": "code",
   "execution_count": 9,
   "id": "9f5c6c79",
   "metadata": {},
   "outputs": [
    {
     "data": {
      "text/plain": [
       "100"
      ]
     },
     "execution_count": 9,
     "metadata": {},
     "output_type": "execute_result"
    }
   ],
   "source": [
    "maxScore"
   ]
  },
  {
   "cell_type": "code",
   "execution_count": 10,
   "id": "7722f1b7",
   "metadata": {},
   "outputs": [
    {
     "data": {
      "text/plain": [
       "0       0.63\n",
       "1       0.42\n",
       "2       0.28\n",
       "3       0.15\n",
       "4       0.72\n",
       "        ... \n",
       "9907    0.15\n",
       "9908    0.70\n",
       "9909    0.20\n",
       "9910    0.20\n",
       "9911    0.30\n",
       "Name: Pawpularity, Length: 9912, dtype: float64"
      ]
     },
     "execution_count": 10,
     "metadata": {},
     "output_type": "execute_result"
    }
   ],
   "source": [
    "y_scaled"
   ]
  },
  {
   "cell_type": "markdown",
   "id": "60aecbf2",
   "metadata": {},
   "source": [
    "### Prepare 'X'"
   ]
  },
  {
   "cell_type": "code",
   "execution_count": 11,
   "id": "8f5ed893",
   "metadata": {},
   "outputs": [
    {
     "data": {
      "text/html": [
       "<div>\n",
       "<style scoped>\n",
       "    .dataframe tbody tr th:only-of-type {\n",
       "        vertical-align: middle;\n",
       "    }\n",
       "\n",
       "    .dataframe tbody tr th {\n",
       "        vertical-align: top;\n",
       "    }\n",
       "\n",
       "    .dataframe thead th {\n",
       "        text-align: right;\n",
       "    }\n",
       "</style>\n",
       "<table border=\"1\" class=\"dataframe\">\n",
       "  <thead>\n",
       "    <tr style=\"text-align: right;\">\n",
       "      <th></th>\n",
       "      <th>Subject Focus</th>\n",
       "      <th>Eyes</th>\n",
       "      <th>Face</th>\n",
       "      <th>Near</th>\n",
       "      <th>Action</th>\n",
       "      <th>Accessory</th>\n",
       "      <th>Group</th>\n",
       "      <th>Collage</th>\n",
       "      <th>Human</th>\n",
       "      <th>Occlusion</th>\n",
       "      <th>Info</th>\n",
       "      <th>Blur</th>\n",
       "    </tr>\n",
       "  </thead>\n",
       "  <tbody>\n",
       "    <tr>\n",
       "      <th>0</th>\n",
       "      <td>0</td>\n",
       "      <td>1</td>\n",
       "      <td>1</td>\n",
       "      <td>1</td>\n",
       "      <td>0</td>\n",
       "      <td>0</td>\n",
       "      <td>1</td>\n",
       "      <td>0</td>\n",
       "      <td>0</td>\n",
       "      <td>0</td>\n",
       "      <td>0</td>\n",
       "      <td>0</td>\n",
       "    </tr>\n",
       "    <tr>\n",
       "      <th>1</th>\n",
       "      <td>0</td>\n",
       "      <td>1</td>\n",
       "      <td>1</td>\n",
       "      <td>0</td>\n",
       "      <td>0</td>\n",
       "      <td>0</td>\n",
       "      <td>0</td>\n",
       "      <td>0</td>\n",
       "      <td>0</td>\n",
       "      <td>0</td>\n",
       "      <td>0</td>\n",
       "      <td>0</td>\n",
       "    </tr>\n",
       "    <tr>\n",
       "      <th>2</th>\n",
       "      <td>0</td>\n",
       "      <td>1</td>\n",
       "      <td>1</td>\n",
       "      <td>1</td>\n",
       "      <td>0</td>\n",
       "      <td>0</td>\n",
       "      <td>0</td>\n",
       "      <td>0</td>\n",
       "      <td>1</td>\n",
       "      <td>1</td>\n",
       "      <td>0</td>\n",
       "      <td>0</td>\n",
       "    </tr>\n",
       "    <tr>\n",
       "      <th>3</th>\n",
       "      <td>0</td>\n",
       "      <td>1</td>\n",
       "      <td>1</td>\n",
       "      <td>1</td>\n",
       "      <td>0</td>\n",
       "      <td>0</td>\n",
       "      <td>0</td>\n",
       "      <td>0</td>\n",
       "      <td>0</td>\n",
       "      <td>0</td>\n",
       "      <td>0</td>\n",
       "      <td>0</td>\n",
       "    </tr>\n",
       "    <tr>\n",
       "      <th>4</th>\n",
       "      <td>0</td>\n",
       "      <td>0</td>\n",
       "      <td>0</td>\n",
       "      <td>1</td>\n",
       "      <td>0</td>\n",
       "      <td>0</td>\n",
       "      <td>1</td>\n",
       "      <td>0</td>\n",
       "      <td>0</td>\n",
       "      <td>0</td>\n",
       "      <td>0</td>\n",
       "      <td>0</td>\n",
       "    </tr>\n",
       "  </tbody>\n",
       "</table>\n",
       "</div>"
      ],
      "text/plain": [
       "   Subject Focus  Eyes  Face  Near  Action  Accessory  Group  Collage  Human  \\\n",
       "0              0     1     1     1       0          0      1        0      0   \n",
       "1              0     1     1     0       0          0      0        0      0   \n",
       "2              0     1     1     1       0          0      0        0      1   \n",
       "3              0     1     1     1       0          0      0        0      0   \n",
       "4              0     0     0     1       0          0      1        0      0   \n",
       "\n",
       "   Occlusion  Info  Blur  \n",
       "0          0     0     0  \n",
       "1          0     0     0  \n",
       "2          1     0     0  \n",
       "3          0     0     0  \n",
       "4          0     0     0  "
      ]
     },
     "execution_count": 11,
     "metadata": {},
     "output_type": "execute_result"
    }
   ],
   "source": [
    "# drop unnecessary columns\n",
    "df_trimmed = data.drop(['Pawpularity', 'Id'], axis=1)\n",
    "df_trimmed.head()"
   ]
  },
  {
   "cell_type": "markdown",
   "id": "40d2a915",
   "metadata": {},
   "source": [
    "## Split into train and test data"
   ]
  },
  {
   "cell_type": "code",
   "execution_count": 12,
   "id": "84a84043",
   "metadata": {},
   "outputs": [],
   "source": [
    "from sklearn.model_selection import train_test_split"
   ]
  },
  {
   "cell_type": "code",
   "execution_count": 20,
   "id": "aad750f0",
   "metadata": {},
   "outputs": [],
   "source": [
    "# try with both 'y' as well as 'y_scaled'\n",
    "X_train, X_test, y_train, y_test= train_test_split(df_trimmed, y, test_size= 0.25, random_state = 32)"
   ]
  },
  {
   "cell_type": "code",
   "execution_count": null,
   "id": "3b86df80",
   "metadata": {},
   "outputs": [],
   "source": []
  },
  {
   "cell_type": "markdown",
   "id": "72272298",
   "metadata": {},
   "source": [
    "## Train model"
   ]
  },
  {
   "cell_type": "code",
   "execution_count": 21,
   "id": "04e1b88d",
   "metadata": {},
   "outputs": [],
   "source": [
    "# import the necessary packages\n",
    "import tensorflow as tf\n",
    "from tensorflow.keras.models import Sequential\n",
    "from tensorflow.keras.layers import BatchNormalization\n",
    "from tensorflow.keras.layers import Conv2D\n",
    "from tensorflow.keras.layers import MaxPooling2D\n",
    "from tensorflow.keras.layers import Activation\n",
    "from tensorflow.keras.layers import Dropout\n",
    "from tensorflow.keras.layers import Dense\n",
    "from tensorflow.keras.layers import Flatten\n",
    "from tensorflow.keras.layers import Input\n",
    "from tensorflow.keras.models import Model"
   ]
  },
  {
   "cell_type": "code",
   "execution_count": 22,
   "id": "4137b63e",
   "metadata": {},
   "outputs": [],
   "source": [
    "# import the necessary packages\n",
    "from tensorflow.keras.optimizers import Adam\n",
    "import numpy as np\n",
    "import locale\n",
    "import os"
   ]
  },
  {
   "cell_type": "code",
   "execution_count": 35,
   "id": "9a9fcd72",
   "metadata": {},
   "outputs": [],
   "source": [
    "# function for creating SEQUENTIAL model\n",
    "def create_mlp(dim, regress=False):\n",
    "    # define our MLP network\n",
    "    model = Sequential()\n",
    "    model.add(Dense(8, input_dim=dim, activation=\"relu\"))\n",
    "    model.add(Dense(4, activation=\"relu\"))\n",
    "    # check to see if the regression node should be added\n",
    "    if regress:\n",
    "        model.add(Dense(1, activation=\"linear\"))\n",
    "    # return our model\n",
    "    return model"
   ]
  },
  {
   "cell_type": "code",
   "execution_count": 36,
   "id": "e92ec33e",
   "metadata": {},
   "outputs": [
    {
     "data": {
      "text/plain": [
       "(7434, 12)"
      ]
     },
     "execution_count": 36,
     "metadata": {},
     "output_type": "execute_result"
    }
   ],
   "source": [
    "X_train.shape"
   ]
  },
  {
   "cell_type": "code",
   "execution_count": 37,
   "id": "70bfcc60",
   "metadata": {},
   "outputs": [
    {
     "name": "stdout",
     "output_type": "stream",
     "text": [
      "<class 'pandas.core.frame.DataFrame'>\n",
      "Int64Index: 7434 entries, 8462 to 9771\n",
      "Data columns (total 12 columns):\n",
      " #   Column         Non-Null Count  Dtype\n",
      "---  ------         --------------  -----\n",
      " 0   Subject Focus  7434 non-null   int64\n",
      " 1   Eyes           7434 non-null   int64\n",
      " 2   Face           7434 non-null   int64\n",
      " 3   Near           7434 non-null   int64\n",
      " 4   Action         7434 non-null   int64\n",
      " 5   Accessory      7434 non-null   int64\n",
      " 6   Group          7434 non-null   int64\n",
      " 7   Collage        7434 non-null   int64\n",
      " 8   Human          7434 non-null   int64\n",
      " 9   Occlusion      7434 non-null   int64\n",
      " 10  Info           7434 non-null   int64\n",
      " 11  Blur           7434 non-null   int64\n",
      "dtypes: int64(12)\n",
      "memory usage: 755.0 KB\n"
     ]
    }
   ],
   "source": [
    "X_train.info()"
   ]
  },
  {
   "cell_type": "code",
   "execution_count": 38,
   "id": "04bb4fa5",
   "metadata": {},
   "outputs": [
    {
     "data": {
      "text/plain": [
       "74"
      ]
     },
     "execution_count": 38,
     "metadata": {},
     "output_type": "execute_result"
    }
   ],
   "source": [
    "import math\n",
    "epox = 100\n",
    "b_size = math.floor(7434 / epox)\n",
    "b_size"
   ]
  },
  {
   "cell_type": "code",
   "execution_count": 40,
   "id": "ef419dfc",
   "metadata": {},
   "outputs": [
    {
     "name": "stdout",
     "output_type": "stream",
     "text": [
      "[INFO] training model...\n",
      "Epoch 1/10\n",
      "233/233 [==============================] - 1s 2ms/step - loss: 94.0208 - mse: 1747.6876 - mean_absolute_error: 36.4289 - root_mean_squared_error: 41.8054 - val_loss: 85.4577 - val_mse: 1583.5350 - val_mean_absolute_error: 33.9963 - val_root_mean_squared_error: 39.7937\n",
      "Epoch 2/10\n",
      "233/233 [==============================] - 0s 2ms/step - loss: 72.7115 - mse: 1213.4607 - mean_absolute_error: 28.2678 - root_mean_squared_error: 34.8348 - val_loss: 60.3903 - val_mse: 832.5784 - val_mean_absolute_error: 21.4226 - val_root_mean_squared_error: 28.8544\n",
      "Epoch 3/10\n",
      "233/233 [==============================] - 0s 2ms/step - loss: 59.2738 - mse: 704.7104 - mean_absolute_error: 19.0069 - root_mean_squared_error: 26.5464 - val_loss: 58.6267 - val_mse: 686.2434 - val_mean_absolute_error: 18.6343 - val_root_mean_squared_error: 26.1962\n",
      "Epoch 4/10\n",
      "233/233 [==============================] - 0s 1ms/step - loss: 58.7563 - mse: 659.8808 - mean_absolute_error: 18.1218 - root_mean_squared_error: 25.6881 - val_loss: 58.4957 - val_mse: 708.0098 - val_mean_absolute_error: 19.0368 - val_root_mean_squared_error: 26.6085\n",
      "Epoch 5/10\n",
      "233/233 [==============================] - 0s 2ms/step - loss: 58.6157 - mse: 669.3828 - mean_absolute_error: 18.3040 - root_mean_squared_error: 25.8724 - val_loss: 58.3525 - val_mse: 691.7292 - val_mean_absolute_error: 18.7264 - val_root_mean_squared_error: 26.3007\n",
      "Epoch 6/10\n",
      "233/233 [==============================] - 0s 2ms/step - loss: 58.4749 - mse: 663.5343 - mean_absolute_error: 18.1877 - root_mean_squared_error: 25.7592 - val_loss: 58.2584 - val_mse: 683.1324 - val_mean_absolute_error: 18.5630 - val_root_mean_squared_error: 26.1368\n",
      "Epoch 7/10\n",
      "233/233 [==============================] - 0s 2ms/step - loss: 58.3218 - mse: 665.2834 - mean_absolute_error: 18.2204 - root_mean_squared_error: 25.7931 - val_loss: 58.1998 - val_mse: 669.1387 - val_mean_absolute_error: 18.3010 - val_root_mean_squared_error: 25.8677\n",
      "Epoch 8/10\n",
      "233/233 [==============================] - 0s 2ms/step - loss: 58.1840 - mse: 655.8506 - mean_absolute_error: 18.0453 - root_mean_squared_error: 25.6096 - val_loss: 58.1108 - val_mse: 669.6322 - val_mean_absolute_error: 18.3070 - val_root_mean_squared_error: 25.8773\n",
      "Epoch 9/10\n",
      "233/233 [==============================] - 1s 3ms/step - loss: 58.0537 - mse: 658.4094 - mean_absolute_error: 18.0939 - root_mean_squared_error: 25.6595 - val_loss: 58.0881 - val_mse: 654.2090 - val_mean_absolute_error: 18.0153 - val_root_mean_squared_error: 25.5775\n",
      "Epoch 10/10\n",
      "233/233 [==============================] - 1s 6ms/step - loss: 57.9629 - mse: 649.9590 - mean_absolute_error: 17.9299 - root_mean_squared_error: 25.4943 - val_loss: 57.9918 - val_mse: 657.9186 - val_mean_absolute_error: 18.0816 - val_root_mean_squared_error: 25.6499\n"
     ]
    },
    {
     "data": {
      "text/plain": [
       "<tensorflow.python.keras.callbacks.History at 0x17f11db7130>"
      ]
     },
     "execution_count": 40,
     "metadata": {},
     "output_type": "execute_result"
    }
   ],
   "source": [
    "from tensorflow.keras import metrics\n",
    "#metrics=[metrics.mean_squared_error, metrics.mean_absolute_error, metrics.mean_absolute_percentage_error, metrics.cosine_proximity])\n",
    "# create our MLP and then compile the model using mean absolute\n",
    "# percentage error as our loss, implying that we seek to minimize\n",
    "# the absolute percentage difference between our price *predictions*\n",
    "# and the *actual prices*\n",
    "model = create_mlp(X_train.shape[1], regress=True)\n",
    "opt = Adam(lr=1e-3, decay=1e-3 / 200) # decay is unclear\n",
    "model.compile(loss=\"mean_absolute_percentage_error\", \n",
    "              optimizer='adam',\n",
    "              metrics = ['mse', \"mean_absolute_error\", tf.metrics.RootMeanSquaredError()] # added metrics\n",
    "             ) \n",
    "# train the model\n",
    "print(\"[INFO] training model...\")\n",
    "model.fit(x=X_train, y=y_train, \n",
    "    validation_data=(X_test, y_test),\n",
    "    epochs=10)\n",
    "#batch_size=b_size)"
   ]
  },
  {
   "cell_type": "code",
   "execution_count": 28,
   "id": "9a88a85e",
   "metadata": {},
   "outputs": [
    {
     "name": "stdout",
     "output_type": "stream",
     "text": [
      "[INFO] predicting house prices...\n",
      "[INFO] avg. house price: 38.03904358353511, std house price: 20.591990105774546\n",
      "[INFO] mean: 58.15%, std: 131.29%\n"
     ]
    }
   ],
   "source": [
    "# make predictions on the testing data\n",
    "print(\"[INFO] predicting house prices...\")\n",
    "preds = model.predict(X_test)\n",
    "# compute the difference between the *predicted* house prices and the\n",
    "# *actual* house prices, then compute the percentage difference and\n",
    "# the absolute percentage difference\n",
    "diff = preds.flatten() - y_test\n",
    "percentDiff = (diff / y_test) * 100\n",
    "absPercentDiff = np.abs(percentDiff)\n",
    "# compute the mean and standard deviation of the absolute percentage\n",
    "# difference\n",
    "mean = np.mean(absPercentDiff)\n",
    "std = np.std(absPercentDiff)\n",
    "# finally, show some statistics on our model\n",
    "print(\"[INFO] avg. house price: {}, std house price: {}\".format(data[\"Pawpularity\"].mean(), \n",
    "      data[\"Pawpularity\"].std()))\n",
    "print(\"[INFO] mean: {:.2f}%, std: {:.2f}%\".format(mean, std))"
   ]
  },
  {
   "cell_type": "markdown",
   "id": "e958091f",
   "metadata": {},
   "source": [
    "### Best scores\n",
    "#### Mean absolute percentage error\n",
    "- val_loss: 58.1714\n",
    "- loss: 55.9041\n",
    "\n",
    "Working without batches produced slightly better scores\n",
    "- loss: 55.7859 - val_loss: 57.6528\n",
    "\n",
    "Eliminating scaling of y did not impact results (approximately equal), perhaps slightly worsened speed\n",
    "- loss: 56.5528 - val_loss: 57.6922\n",
    "\n",
    "200 Epochs seems to be uneccessary, will reduce to 100\n",
    "\n",
    "#### Mean absolute error\n",
    "100 epochs\n",
    "loss: 418.9434 - mean_squared_error: 418.9434 - mean_absolute_error: 15.2811 - mean_absolute_percentage_error: 78.0882 - root_mean_squared_error: 20.4681 - val_loss: 432.4336 - val_mean_squared_error: 432.4336 - val_mean_absolute_error: 15.5180 - val_mean_absolute_percentage_error: 78.1331 - val_root_mean_squared_error: 20.7950\n",
    "- scores significantly worsened after adding metrics\n",
    "    - mean absolute percentage error worsened from 58 to 78 percent, although there appears to be no overfitting\n",
    "    - will try to work with scaled data again - scaling made no difference\n",
    "    \n",
    "Restarting kernel led to improvement\n",
    "- try to determine what impact of including RMSE is"
   ]
  },
  {
   "cell_type": "markdown",
   "id": "a2c8da25",
   "metadata": {},
   "source": []
  },
  {
   "cell_type": "code",
   "execution_count": null,
   "id": "1bc353f8",
   "metadata": {},
   "outputs": [],
   "source": [
    "model= "
   ]
  }
 ],
 "metadata": {
  "kernelspec": {
   "display_name": "Python 3 (ipykernel)",
   "language": "python",
   "name": "python3"
  },
  "language_info": {
   "codemirror_mode": {
    "name": "ipython",
    "version": 3
   },
   "file_extension": ".py",
   "mimetype": "text/x-python",
   "name": "python",
   "nbconvert_exporter": "python",
   "pygments_lexer": "ipython3",
   "version": "3.8.8"
  }
 },
 "nbformat": 4,
 "nbformat_minor": 5
}
